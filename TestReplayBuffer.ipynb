{
 "cells": [
  {
   "cell_type": "code",
   "execution_count": 33,
   "metadata": {},
   "outputs": [],
   "source": [
    "from utils.replay_buffer import ReplayBuffer\n",
    "from utils.screen import SpaceInvaderScreen\n",
    "from utils.data_loader import AtariGrandChallengeDataset\n",
    "import matplotlib.pyplot as plt\n",
    "plt.rcParams['figure.figsize'] = (10.0, 8.0)\n",
    "%reload_ext autoreload\n",
    "%autoreload 2\n",
    "\n",
    "%matplotlib inline"
   ]
  },
  {
   "cell_type": "code",
   "execution_count": 34,
   "metadata": {},
   "outputs": [
    {
     "name": "stderr",
     "output_type": "stream",
     "text": [
      "[2018-01-06 19:38:00,020] Making new env: SpaceInvaders-v0\n"
     ]
    }
   ],
   "source": [
    "screen = SpaceInvaderScreen()\n",
    "buffer_random = ReplayBuffer(5000, 20, screen)"
   ]
  },
  {
   "cell_type": "code",
   "execution_count": 37,
   "metadata": {},
   "outputs": [],
   "source": [
    "buffer_random.initialize_random(3500);"
   ]
  },
  {
   "cell_type": "markdown",
   "metadata": {},
   "source": [
    "plt.figure(figsize=(18, 16))\n",
    "bobs = buffer_random.obs[300:400]\n",
    "for i, obs in enumerate(bobs):\n",
    "    plt.subplot(len(bobs)/10, 10, i + 1)\n",
    "    plt.imshow(obs)"
   ]
  },
  {
   "cell_type": "code",
   "execution_count": 44,
   "metadata": {},
   "outputs": [
    {
     "name": "stdout",
     "output_type": "stream",
     "text": [
      "(100, 20, 80, 80)\n",
      "(100, 20, 80, 80)\n",
      "(100,)\n"
     ]
    }
   ],
   "source": [
    "obs, action, reward, done, next_obs = buffer_random.sample(100)\n",
    "\n",
    "print(obs.shape)\n",
    "print(next_obs.shape)\n",
    "print(action.shape)"
   ]
  },
  {
   "cell_type": "code",
   "execution_count": 50,
   "metadata": {},
   "outputs": [],
   "source": [
    "dataset = AtariGrandChallengeDataset('/mnt/e/data/atari_v2_release', 'spaceinvaders', history_len=20)\n",
    "buffer_dataset = ReplayBuffer(5000, 20, screen)"
   ]
  },
  {
   "cell_type": "code",
   "execution_count": 51,
   "metadata": {},
   "outputs": [],
   "source": [
    "buffer_dataset.initialize_dataset(3000, dataset);"
   ]
  },
  {
   "cell_type": "code",
   "execution_count": 52,
   "metadata": {},
   "outputs": [
    {
     "name": "stdout",
     "output_type": "stream",
     "text": [
      "(100, 20, 80, 80)\n",
      "(100, 20, 80, 80)\n",
      "(100,)\n"
     ]
    }
   ],
   "source": [
    "obs, action, reward, done, next_obs = buffer_dataset.sample(100)\n",
    "\n",
    "print(obs.shape)\n",
    "print(next_obs.shape)\n",
    "print(action.shape)"
   ]
  },
  {
   "cell_type": "code",
   "execution_count": null,
   "metadata": {},
   "outputs": [],
   "source": [
    "plt.figure(figsize=(18, 16))\n",
    "bobs = buffer.obs[500:600]\n",
    "for i, obs in enumerate(bobs):\n",
    "    plt.subplot(len(bobs)/10, 10, i + 1)\n",
    "    plt.imshow(obs)"
   ]
  },
  {
   "cell_type": "code",
   "execution_count": null,
   "metadata": {},
   "outputs": [],
   "source": [
    "if buffer.can_sample(10):\n",
    "    samples = buffer.sample(10)\n",
    "    \n",
    "obs, act, rew, next_obs, done_mask = samples"
   ]
  },
  {
   "cell_type": "code",
   "execution_count": null,
   "metadata": {},
   "outputs": [],
   "source": [
    "print(obs.shape)\n",
    "print(act.shape)"
   ]
  },
  {
   "cell_type": "code",
   "execution_count": null,
   "metadata": {},
   "outputs": [],
   "source": []
  }
 ],
 "metadata": {
  "kernelspec": {
   "display_name": "Python 3",
   "language": "python",
   "name": "python3"
  },
  "language_info": {
   "codemirror_mode": {
    "name": "ipython",
    "version": 3
   },
   "file_extension": ".py",
   "mimetype": "text/x-python",
   "name": "python",
   "nbconvert_exporter": "python",
   "pygments_lexer": "ipython3",
   "version": "3.6.3"
  }
 },
 "nbformat": 4,
 "nbformat_minor": 2
}
