{
 "cells": [
  {
   "cell_type": "code",
   "execution_count": 1,
   "metadata": {},
   "outputs": [],
   "source": [
    "import gym\n",
    "\n",
    "from agents.dqn import DQNAgent\n",
    "from utils.screen import SpaceInvaderScreen\n",
    "from utils.data_loader import AtariGrandChallengeDataset\n",
    "from train.solver import Solver\n",
    "\n",
    "from torch import optim\n",
    "from torch.nn import CrossEntropyLoss\n",
    "from torch.utils.data import DataLoader\n",
    "\n",
    "import matplotlib.pyplot as plt\n",
    "from skimage.transform import resize\n",
    "from skimage.color import rgb2gray\n",
    "import numpy as np\n",
    "\n",
    "%reload_ext autoreload\n",
    "%autoreload 2\n",
    "\n",
    "%matplotlib inline"
   ]
  },
  {
   "cell_type": "code",
   "execution_count": 2,
   "metadata": {},
   "outputs": [
    {
     "name": "stderr",
     "output_type": "stream",
     "text": [
      "[2018-01-11 15:03:42,543] Making new env: SpaceInvaders-v0\n"
     ]
    },
    {
     "data": {
      "image/png": "[encoded data removed]",
      "text/plain": [
       "<matplotlib.figure.Figure at 0x7f679808a748>"
      ]
     },
     "metadata": {},
     "output_type": "display_data"
    }
   ],
   "source": [
    "screen = SpaceInvaderScreen()\n",
    "frame = screen.reset()\n",
    "plt.imshow(frame);"
   ]
  },
  {
   "cell_type": "code",
   "execution_count": 4,
   "metadata": {},
   "outputs": [],
   "source": [
    "dataset = AtariGrandChallengeDataset('/mnt/c/data/atari_v2_release', 'spaceinvaders', history_len=10, screen=screen, max_files=2)\n",
    "data_train, data_valid, data_test = dataset.split(0.7, 0.2)"
   ]
  },
  {
   "cell_type": "code",
   "execution_count": 5,
   "metadata": {},
   "outputs": [],
   "source": [
    "agent = DQNAgent(screen, mem_size=1000)\n",
    "agent.initialize(800)"
   ]
  },
  {
   "cell_type": "code",
   "execution_count": 15,
   "metadata": {},
   "outputs": [
    {
     "name": "stdout",
     "output_type": "stream",
     "text": [
      "Action: NOOP\n",
      "Predicted: LEFTFIRE\n"
     ]
    },
    {
     "data": {
      "image/png": "[encoded data removed]",
      "text/plain": [
       "<matplotlib.figure.Figure at 0x7f672a56c7b8>"
      ]
     },
     "metadata": {},
     "output_type": "display_data"
    }
   ],
   "source": [
    "transition = data_train.raw(146) # get as Transition\n",
    "observation = screen.output(transition.observation)\n",
    "plt.imshow(observation)\n",
    "print(\"Action:\", screen.get_action_meaning(transition.action))\n",
    "print(\"Predicted:\", screen.get_action_meaning(agent.next_action(observation)))"
   ]
  },
  {
   "cell_type": "code",
   "execution_count": 16,
   "metadata": {},
   "outputs": [],
   "source": [
    "batchsize = 10\n",
    "\n",
    "train_loader = DataLoader(data_train, batch_size=batchsize, num_workers=4)\n",
    "val_loader = DataLoader(data_valid, batch_size=batchsize, num_workers=4)"
   ]
  },
  {
   "cell_type": "code",
   "execution_count": null,
   "metadata": {},
   "outputs": [],
   "source": [
    "solver = Solver(optim.Adam, CrossEntropyLoss(), batchsize)\n",
    "solver.train_offline(agent, train_loader, val_loader, num_epochs=1, log_nth=0)\n"
   ]
  },
  {
   "cell_type": "code",
   "execution_count": null,
   "metadata": {},
   "outputs": [],
   "source": [
    "print(solver.loss_history)"
   ]
  }
 ],
 "metadata": {
  "kernelspec": {
   "display_name": "Python 3",
   "language": "python",
   "name": "python3"
  }
 },
 "nbformat": 4,
 "nbformat_minor": 2
}
