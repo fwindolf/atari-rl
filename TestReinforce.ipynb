{
 "cells": [
  {
   "cell_type": "code",
   "execution_count": 1,
   "metadata": {},
   "outputs": [],
   "source": [
    "import gym\n",
    "from models.policy import DiscretePolicy, ContinuousPolicy\n",
    "from agents.reinforce import REINFORCE\n",
    "\n",
    "%reload_ext autoreload\n",
    "%autoreload 2"
   ]
  },
  {
   "cell_type": "code",
   "execution_count": 2,
   "metadata": {},
   "outputs": [],
   "source": [
    " class NormalizedActions(gym.ActionWrapper):\n",
    "\n",
    "    def _action(self, action):\n",
    "        action = (action + 1) / 2  # [-1, 1] => [0, 1]\n",
    "        action *= (self.action_space.high - self.action_space.low)\n",
    "        action += self.action_space.low\n",
    "        return action\n",
    "\n",
    "    def _reverse_action(self, action):\n",
    "        action -= self.action_space.low\n",
    "        action /= (self.action_space.high - self.action_space.low)\n",
    "        action = action * 2 - 1\n",
    "        return actions"
   ]
  },
  {
   "cell_type": "markdown",
   "metadata": {},
   "source": [
    "Creation of the environment."
   ]
  },
  {
   "cell_type": "code",
   "execution_count": 3,
   "metadata": {},
   "outputs": [
    {
     "name": "stderr",
     "output_type": "stream",
     "text": [
      "[2018-01-13 16:35:09,408] Making new env: CartPole-v1\n"
     ]
    }
   ],
   "source": [
    "env_name = \"CartPole-v1\"\n",
    "env = gym.make(env_name)\n",
    "continuous = False\n",
    "if type(env.action_space) != gym.spaces.discrete.Discrete:\n",
    "    env = NormalizedActions(gym.make(env_name))\n",
    "    continuous = True"
   ]
  },
  {
   "cell_type": "code",
   "execution_count": 4,
   "metadata": {},
   "outputs": [],
   "source": [
    "agent = REINFORCE(hidden_size=128,\n",
    "                  num_inputs=env.observation_space.shape[0],\n",
    "                  action_space=env.action_space,\n",
    "                  gamma=0.99,\n",
    "                  ckpt_freq=100,\n",
    "                  continuous=continuous)"
   ]
  },
  {
   "cell_type": "code",
   "execution_count": null,
   "metadata": {
    "scrolled": true
   },
   "outputs": [
    {
     "name": "stdout",
     "output_type": "stream",
     "text": [
      "Episode: 0, reward: 29.0\n",
      "Episode: 100, reward: 27.0\n",
      "Episode: 200, reward: 35.0\n",
      "Episode: 300, reward: 43.0\n",
      "Episode: 400, reward: 102.0\n",
      "Episode: 500, reward: 85.0\n",
      "Episode: 600, reward: 157.0\n",
      "Episode: 700, reward: 388.0\n",
      "Episode: 800, reward: 260.0\n",
      "Episode: 900, reward: 307.0\n"
     ]
    }
   ],
   "source": [
    "rewards_cum = agent.train(env=env,\n",
    "                          num_episodes=2000,\n",
    "                          max_episode_length=1000)"
   ]
  }
 ],
 "metadata": {
  "kernelspec": {
   "display_name": "Python 3",
   "language": "python",
   "name": "python3"
  },
  "language_info": {
   "codemirror_mode": {
    "name": "ipython",
    "version": 3
   },
   "file_extension": ".py",
   "mimetype": "text/x-python",
   "name": "python",
   "nbconvert_exporter": "python",
   "pygments_lexer": "ipython3",
   "version": "3.6.3"
  }
 },
 "nbformat": 4,
 "nbformat_minor": 2
}
