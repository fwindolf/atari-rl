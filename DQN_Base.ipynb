{
 "cells": [
  {
   "cell_type": "code",
   "execution_count": 1,
   "metadata": {},
   "outputs": [],
   "source": [
    "import gym\n",
    "\n",
    "from agents.dqn import DQNAgent\n",
    "from utils.screen import SpaceInvaderScreen\n",
    "from train.solver import Solver\n",
    "\n",
    "from torch import optim\n",
    "from torch.nn import CrossEntropyLoss\n",
    "\n",
    "import matplotlib.pyplot as plt\n",
    "import numpy as np\n",
    "\n",
    "\n",
    "%reload_ext autoreload\n",
    "%autoreload 2\n",
    "\n",
    "%matplotlib inline"
   ]
  },
  {
   "cell_type": "code",
   "execution_count": 2,
   "metadata": {},
   "outputs": [
    {
     "name": "stderr",
     "output_type": "stream",
     "text": [
      "[2018-01-15 21:02:29,815] Making new env: SpaceInvaders-v0\n"
     ]
    }
   ],
   "source": [
    "screen = SpaceInvaderScreen()"
   ]
  },
  {
   "cell_type": "code",
   "execution_count": 3,
   "metadata": {},
   "outputs": [],
   "source": [
    "agent = DQNAgent(screen, history_len=4, mem_size=1000)"
   ]
  },
  {
   "cell_type": "code",
   "execution_count": 4,
   "metadata": {},
   "outputs": [],
   "source": [
    "agent.initialize(800)"
   ]
  },
  {
   "cell_type": "code",
   "execution_count": 5,
   "metadata": {},
   "outputs": [],
   "source": [
    "solver = Solver(optim.Adam, CrossEntropyLoss(), batchsize=100, log_level='INFO')"
   ]
  },
  {
   "cell_type": "code",
   "execution_count": 6,
   "metadata": {},
   "outputs": [
    {
     "name": "stderr",
     "output_type": "stream",
     "text": [
      "[2018-01-15 21:02:32,770] Wanna play a game? - Game started!\n",
      "[2018-01-15 21:02:35,608] 0/10 Highscore is 110\n",
      "[2018-01-15 21:02:38,347] 1/10 Highscore is 110\n",
      "[2018-01-15 21:02:41,103] 2/10 Highscore is 110\n",
      "[2018-01-15 21:02:43,926] 3/10 Highscore is 110\n",
      "[2018-01-15 21:02:46,635] 4/10 Highscore is 110\n",
      "[2018-01-15 21:02:48,085] 5/10 Highscore is 110\n",
      "[2018-01-15 21:02:50,784] 6/10 Highscore is 110\n",
      "[2018-01-15 21:02:54,041] 7/10 Highscore is 110\n",
      "[2018-01-15 21:02:56,830] 8/10 Highscore is 110\n",
      "[2018-01-15 21:02:58,248] 9/10 Highscore is 110\n",
      "[2018-01-15 21:02:58,248] Mean score 103.000000\n",
      "[2018-01-15 21:02:58,249] Mean duration 411.000000\n",
      "[2018-01-15 21:02:58,249] Highscore 110 out of 10 sequences\n",
      "[2018-01-15 21:02:58,249] Game ended\n"
     ]
    }
   ],
   "source": [
    "best_score, mean_score, mean_dur = solver.play(agent, screen, 10)"
   ]
  },
  {
   "cell_type": "code",
   "execution_count": 9,
   "metadata": {},
   "outputs": [
    {
     "name": "stderr",
     "output_type": "stream",
     "text": [
      "[2018-01-15 21:05:08,583] Online Training started\n",
      "[2018-01-15 21:05:17,497] Online Training finished\n",
      "[2018-01-15 21:05:17,498] Wanna play a game? - Game started!\n",
      "[2018-01-15 21:05:20,527] 0/10 Highscore is 180\n",
      "[2018-01-15 21:05:23,500] 1/10 Highscore is 180\n",
      "[2018-01-15 21:05:26,656] 2/10 Highscore is 180\n",
      "[2018-01-15 21:05:29,785] 3/10 Highscore is 180\n",
      "[2018-01-15 21:05:33,369] 4/10 Highscore is 180\n",
      "[2018-01-15 21:05:36,926] 5/10 Highscore is 180\n",
      "[2018-01-15 21:05:40,175] 6/10 Highscore is 180\n",
      "[2018-01-15 21:05:43,255] 7/10 Highscore is 180\n",
      "[2018-01-15 21:05:46,274] 8/10 Highscore is 180\n",
      "[2018-01-15 21:05:49,219] 9/10 Highscore is 180\n",
      "[2018-01-15 21:05:49,220] Mean score 180.000000\n",
      "[2018-01-15 21:05:49,220] Mean duration 813.000000\n",
      "[2018-01-15 21:05:49,221] Highscore 180 out of 10 sequences\n",
      "[2018-01-15 21:05:49,221] Game ended\n",
      "[2018-01-15 21:05:49,222] Online Training started\n"
     ]
    },
    {
     "name": "stdout",
     "output_type": "stream",
     "text": [
      "Epoch 0 with best score 180\n"
     ]
    },
    {
     "name": "stderr",
     "output_type": "stream",
     "text": [
      "[2018-01-15 21:05:57,816] Online Training finished\n",
      "[2018-01-15 21:05:57,817] Wanna play a game? - Game started!\n",
      "[2018-01-15 21:06:00,820] 0/10 Highscore is 180\n",
      "[2018-01-15 21:06:03,876] 1/10 Highscore is 180\n",
      "[2018-01-15 21:06:06,996] 2/10 Highscore is 180\n",
      "[2018-01-15 21:06:09,985] 3/10 Highscore is 180\n",
      "[2018-01-15 21:06:12,939] 4/10 Highscore is 180\n",
      "[2018-01-15 21:06:15,874] 5/10 Highscore is 180\n",
      "[2018-01-15 21:06:18,820] 6/10 Highscore is 180\n",
      "[2018-01-15 21:06:21,874] 7/10 Highscore is 180\n",
      "[2018-01-15 21:06:25,186] 8/10 Highscore is 180\n",
      "[2018-01-15 21:06:28,272] 9/10 Highscore is 180\n",
      "[2018-01-15 21:06:28,273] Mean score 180.000000\n",
      "[2018-01-15 21:06:28,274] Mean duration 809.000000\n",
      "[2018-01-15 21:06:28,274] Highscore 180 out of 10 sequences\n",
      "[2018-01-15 21:06:28,275] Game ended\n",
      "[2018-01-15 21:06:28,275] Online Training started\n"
     ]
    },
    {
     "name": "stdout",
     "output_type": "stream",
     "text": [
      "Epoch 1 with best score 180\n"
     ]
    },
    {
     "name": "stderr",
     "output_type": "stream",
     "text": [
      "[2018-01-15 21:06:37,131] Online Training finished\n",
      "[2018-01-15 21:06:37,132] Wanna play a game? - Game started!\n",
      "[2018-01-15 21:06:40,166] 0/10 Highscore is 180\n",
      "[2018-01-15 21:06:43,260] 1/10 Highscore is 180\n",
      "[2018-01-15 21:06:46,305] 2/10 Highscore is 180\n",
      "[2018-01-15 21:06:49,370] 3/10 Highscore is 180\n",
      "[2018-01-15 21:06:52,399] 4/10 Highscore is 180\n",
      "[2018-01-15 21:06:55,425] 5/10 Highscore is 180\n",
      "[2018-01-15 21:06:58,476] 6/10 Highscore is 180\n",
      "[2018-01-15 21:07:01,585] 7/10 Highscore is 180\n",
      "[2018-01-15 21:07:04,632] 8/10 Highscore is 180\n",
      "[2018-01-15 21:07:07,702] 9/10 Highscore is 180\n",
      "[2018-01-15 21:07:07,703] Mean score 180.000000\n",
      "[2018-01-15 21:07:07,703] Mean duration 822.000000\n",
      "[2018-01-15 21:07:07,704] Highscore 180 out of 10 sequences\n",
      "[2018-01-15 21:07:07,704] Game ended\n",
      "[2018-01-15 21:07:07,705] Online Training started\n"
     ]
    },
    {
     "name": "stdout",
     "output_type": "stream",
     "text": [
      "Epoch 2 with best score 180\n"
     ]
    },
    {
     "name": "stderr",
     "output_type": "stream",
     "text": [
      "[2018-01-15 21:07:16,513] Online Training finished\n",
      "[2018-01-15 21:07:16,513] Wanna play a game? - Game started!\n",
      "[2018-01-15 21:07:19,507] 0/10 Highscore is 180\n",
      "[2018-01-15 21:07:22,540] 1/10 Highscore is 180\n",
      "[2018-01-15 21:07:25,607] 2/10 Highscore is 180\n",
      "[2018-01-15 21:07:28,753] 3/10 Highscore is 180\n",
      "[2018-01-15 21:07:31,760] 4/10 Highscore is 180\n",
      "[2018-01-15 21:07:34,738] 5/10 Highscore is 180\n",
      "[2018-01-15 21:07:37,859] 6/10 Highscore is 180\n",
      "[2018-01-15 21:07:40,865] 7/10 Highscore is 180\n",
      "[2018-01-15 21:07:43,861] 8/10 Highscore is 180\n",
      "[2018-01-15 21:07:46,836] 9/10 Highscore is 180\n",
      "[2018-01-15 21:07:46,837] Mean score 180.000000\n",
      "[2018-01-15 21:07:46,838] Mean duration 816.000000\n",
      "[2018-01-15 21:07:46,838] Highscore 180 out of 10 sequences\n",
      "[2018-01-15 21:07:46,839] Game ended\n",
      "[2018-01-15 21:07:46,840] Online Training started\n"
     ]
    },
    {
     "name": "stdout",
     "output_type": "stream",
     "text": [
      "Epoch 3 with best score 180\n"
     ]
    },
    {
     "name": "stderr",
     "output_type": "stream",
     "text": [
      "[2018-01-15 21:07:55,543] Online Training finished\n",
      "[2018-01-15 21:07:55,543] Wanna play a game? - Game started!\n",
      "[2018-01-15 21:07:58,602] 0/10 Highscore is 180\n",
      "[2018-01-15 21:08:01,616] 1/10 Highscore is 180\n",
      "[2018-01-15 21:08:04,665] 2/10 Highscore is 180\n",
      "[2018-01-15 21:08:07,692] 3/10 Highscore is 180\n",
      "[2018-01-15 21:08:10,743] 4/10 Highscore is 180\n",
      "[2018-01-15 21:08:13,698] 5/10 Highscore is 180\n",
      "[2018-01-15 21:08:16,780] 6/10 Highscore is 180\n",
      "[2018-01-15 21:08:19,847] 7/10 Highscore is 180\n",
      "[2018-01-15 21:08:22,976] 8/10 Highscore is 180\n",
      "[2018-01-15 21:08:26,064] 9/10 Highscore is 180\n",
      "[2018-01-15 21:08:26,065] Mean score 180.000000\n",
      "[2018-01-15 21:08:26,066] Mean duration 814.000000\n",
      "[2018-01-15 21:08:26,067] Highscore 180 out of 10 sequences\n",
      "[2018-01-15 21:08:26,067] Game ended\n",
      "[2018-01-15 21:08:26,068] Online Training started\n"
     ]
    },
    {
     "name": "stdout",
     "output_type": "stream",
     "text": [
      "Epoch 4 with best score 180\n"
     ]
    },
    {
     "name": "stderr",
     "output_type": "stream",
     "text": [
      "[2018-01-15 21:08:34,634] Online Training finished\n",
      "[2018-01-15 21:08:34,635] Wanna play a game? - Game started!\n",
      "[2018-01-15 21:08:37,745] 0/10 Highscore is 180\n",
      "[2018-01-15 21:08:40,719] 1/10 Highscore is 180\n",
      "[2018-01-15 21:08:43,748] 2/10 Highscore is 180\n",
      "[2018-01-15 21:08:46,881] 3/10 Highscore is 180\n",
      "[2018-01-15 21:08:49,763] 4/10 Highscore is 180\n",
      "[2018-01-15 21:08:52,793] 5/10 Highscore is 180\n",
      "[2018-01-15 21:08:55,911] 6/10 Highscore is 180\n",
      "[2018-01-15 21:08:58,973] 7/10 Highscore is 180\n",
      "[2018-01-15 21:09:02,047] 8/10 Highscore is 180\n",
      "[2018-01-15 21:09:05,034] 9/10 Highscore is 180\n",
      "[2018-01-15 21:09:05,034] Mean score 180.000000\n",
      "[2018-01-15 21:09:05,035] Mean duration 815.000000\n",
      "[2018-01-15 21:09:05,036] Highscore 180 out of 10 sequences\n",
      "[2018-01-15 21:09:05,036] Game ended\n",
      "[2018-01-15 21:09:05,037] Online Training started\n"
     ]
    },
    {
     "name": "stdout",
     "output_type": "stream",
     "text": [
      "Epoch 5 with best score 180\n"
     ]
    },
    {
     "name": "stderr",
     "output_type": "stream",
     "text": [
      "[2018-01-15 21:09:13,638] Online Training finished\n",
      "[2018-01-15 21:09:13,640] Wanna play a game? - Game started!\n",
      "[2018-01-15 21:09:16,550] 0/10 Highscore is 180\n",
      "[2018-01-15 21:09:19,462] 1/10 Highscore is 180\n",
      "[2018-01-15 21:09:22,446] 2/10 Highscore is 180\n",
      "[2018-01-15 21:09:25,475] 3/10 Highscore is 180\n",
      "[2018-01-15 21:09:28,502] 4/10 Highscore is 180\n",
      "[2018-01-15 21:09:31,471] 5/10 Highscore is 180\n",
      "[2018-01-15 21:09:34,509] 6/10 Highscore is 180\n",
      "[2018-01-15 21:09:37,462] 7/10 Highscore is 180\n",
      "[2018-01-15 21:09:40,471] 8/10 Highscore is 180\n",
      "[2018-01-15 21:09:43,419] 9/10 Highscore is 180\n",
      "[2018-01-15 21:09:43,419] Mean score 180.000000\n",
      "[2018-01-15 21:09:43,420] Mean duration 818.000000\n",
      "[2018-01-15 21:09:43,420] Highscore 180 out of 10 sequences\n",
      "[2018-01-15 21:09:43,420] Game ended\n",
      "[2018-01-15 21:09:43,421] Online Training started\n"
     ]
    },
    {
     "name": "stdout",
     "output_type": "stream",
     "text": [
      "Epoch 6 with best score 180\n"
     ]
    },
    {
     "name": "stderr",
     "output_type": "stream",
     "text": [
      "[2018-01-15 21:09:52,020] Online Training finished\n",
      "[2018-01-15 21:09:52,020] Wanna play a game? - Game started!\n",
      "[2018-01-15 21:09:54,998] 0/10 Highscore is 180\n",
      "[2018-01-15 21:09:57,932] 1/10 Highscore is 180\n",
      "[2018-01-15 21:10:00,885] 2/10 Highscore is 180\n",
      "[2018-01-15 21:10:03,816] 3/10 Highscore is 180\n",
      "[2018-01-15 21:10:06,745] 4/10 Highscore is 180\n",
      "[2018-01-15 21:10:09,666] 5/10 Highscore is 180\n",
      "[2018-01-15 21:10:12,534] 6/10 Highscore is 180\n",
      "[2018-01-15 21:10:15,477] 7/10 Highscore is 180\n",
      "[2018-01-15 21:10:18,352] 8/10 Highscore is 180\n",
      "[2018-01-15 21:10:21,239] 9/10 Highscore is 180\n",
      "[2018-01-15 21:10:21,240] Mean score 180.000000\n",
      "[2018-01-15 21:10:21,241] Mean duration 819.000000\n",
      "[2018-01-15 21:10:21,242] Highscore 180 out of 10 sequences\n",
      "[2018-01-15 21:10:21,242] Game ended\n",
      "[2018-01-15 21:10:21,243] Online Training started\n"
     ]
    },
    {
     "name": "stdout",
     "output_type": "stream",
     "text": [
      "Epoch 7 with best score 180\n"
     ]
    },
    {
     "name": "stderr",
     "output_type": "stream",
     "text": [
      "[2018-01-15 21:10:29,753] Online Training finished\n",
      "[2018-01-15 21:10:29,754] Wanna play a game? - Game started!\n",
      "[2018-01-15 21:10:32,628] 0/10 Highscore is 180\n",
      "[2018-01-15 21:10:35,522] 1/10 Highscore is 180\n",
      "[2018-01-15 21:10:38,394] 2/10 Highscore is 180\n",
      "[2018-01-15 21:10:41,276] 3/10 Highscore is 180\n",
      "[2018-01-15 21:10:44,208] 4/10 Highscore is 180\n",
      "[2018-01-15 21:10:47,118] 5/10 Highscore is 180\n",
      "[2018-01-15 21:10:50,060] 6/10 Highscore is 180\n",
      "[2018-01-15 21:10:53,005] 7/10 Highscore is 180\n",
      "[2018-01-15 21:10:55,945] 8/10 Highscore is 180\n",
      "[2018-01-15 21:10:58,827] 9/10 Highscore is 180\n",
      "[2018-01-15 21:10:58,828] Mean score 180.000000\n",
      "[2018-01-15 21:10:58,828] Mean duration 809.000000\n",
      "[2018-01-15 21:10:58,828] Highscore 180 out of 10 sequences\n",
      "[2018-01-15 21:10:58,829] Game ended\n",
      "[2018-01-15 21:10:58,829] Online Training started\n"
     ]
    },
    {
     "name": "stdout",
     "output_type": "stream",
     "text": [
      "Epoch 8 with best score 180\n"
     ]
    },
    {
     "name": "stderr",
     "output_type": "stream",
     "text": [
      "[2018-01-15 21:11:07,339] Online Training finished\n",
      "[2018-01-15 21:11:07,340] Wanna play a game? - Game started!\n",
      "[2018-01-15 21:11:10,287] 0/10 Highscore is 180\n",
      "[2018-01-15 21:11:13,166] 1/10 Highscore is 180\n",
      "[2018-01-15 21:11:16,076] 2/10 Highscore is 180\n",
      "[2018-01-15 21:11:18,990] 3/10 Highscore is 180\n",
      "[2018-01-15 21:11:21,953] 4/10 Highscore is 180\n",
      "[2018-01-15 21:11:24,870] 5/10 Highscore is 180\n",
      "[2018-01-15 21:11:27,790] 6/10 Highscore is 180\n",
      "[2018-01-15 21:11:30,759] 7/10 Highscore is 180\n",
      "[2018-01-15 21:11:33,663] 8/10 Highscore is 180\n",
      "[2018-01-15 21:11:36,576] 9/10 Highscore is 180\n",
      "[2018-01-15 21:11:36,576] Mean score 180.000000\n",
      "[2018-01-15 21:11:36,577] Mean duration 824.000000\n",
      "[2018-01-15 21:11:36,577] Highscore 180 out of 10 sequences\n",
      "[2018-01-15 21:11:36,577] Game ended\n",
      "[2018-01-15 21:11:36,578] Online Training started\n"
     ]
    },
    {
     "name": "stdout",
     "output_type": "stream",
     "text": [
      "Epoch 9 with best score 180\n"
     ]
    },
    {
     "name": "stderr",
     "output_type": "stream",
     "text": [
      "[2018-01-15 21:11:45,175] Online Training finished\n",
      "[2018-01-15 21:11:45,176] Wanna play a game? - Game started!\n",
      "[2018-01-15 21:11:48,088] 0/10 Highscore is 180\n",
      "[2018-01-15 21:11:51,033] 1/10 Highscore is 180\n",
      "[2018-01-15 21:11:53,949] 2/10 Highscore is 180\n",
      "[2018-01-15 21:11:56,894] 3/10 Highscore is 180\n",
      "[2018-01-15 21:11:59,783] 4/10 Highscore is 180\n",
      "[2018-01-15 21:12:02,690] 5/10 Highscore is 180\n",
      "[2018-01-15 21:12:05,574] 6/10 Highscore is 180\n",
      "[2018-01-15 21:12:08,482] 7/10 Highscore is 180\n",
      "[2018-01-15 21:12:11,348] 8/10 Highscore is 180\n",
      "[2018-01-15 21:12:14,252] 9/10 Highscore is 180\n",
      "[2018-01-15 21:12:14,252] Mean score 180.000000\n",
      "[2018-01-15 21:12:14,253] Mean duration 818.000000\n",
      "[2018-01-15 21:12:14,253] Highscore 180 out of 10 sequences\n",
      "[2018-01-15 21:12:14,253] Game ended\n",
      "[2018-01-15 21:12:14,254] Online Training started\n"
     ]
    },
    {
     "name": "stdout",
     "output_type": "stream",
     "text": [
      "Epoch 10 with best score 180\n"
     ]
    },
    {
     "name": "stderr",
     "output_type": "stream",
     "text": [
      "[2018-01-15 21:12:22,774] Online Training finished\n",
      "[2018-01-15 21:12:22,775] Wanna play a game? - Game started!\n",
      "[2018-01-15 21:12:25,722] 0/10 Highscore is 180\n",
      "[2018-01-15 21:12:28,622] 1/10 Highscore is 180\n",
      "[2018-01-15 21:12:31,512] 2/10 Highscore is 180\n",
      "[2018-01-15 21:12:34,378] 3/10 Highscore is 180\n",
      "[2018-01-15 21:12:37,289] 4/10 Highscore is 180\n",
      "[2018-01-15 21:12:40,206] 5/10 Highscore is 180\n",
      "[2018-01-15 21:12:43,138] 6/10 Highscore is 180\n",
      "[2018-01-15 21:12:46,067] 7/10 Highscore is 180\n",
      "[2018-01-15 21:12:49,017] 8/10 Highscore is 180\n",
      "[2018-01-15 21:12:51,931] 9/10 Highscore is 180\n",
      "[2018-01-15 21:12:51,931] Mean score 180.000000\n",
      "[2018-01-15 21:12:51,932] Mean duration 817.000000\n",
      "[2018-01-15 21:12:51,932] Highscore 180 out of 10 sequences\n",
      "[2018-01-15 21:12:51,932] Game ended\n",
      "[2018-01-15 21:12:51,933] Online Training started\n"
     ]
    },
    {
     "name": "stdout",
     "output_type": "stream",
     "text": [
      "Epoch 11 with best score 180\n"
     ]
    },
    {
     "name": "stderr",
     "output_type": "stream",
     "text": [
      "[2018-01-15 21:13:00,455] Online Training finished\n",
      "[2018-01-15 21:13:00,456] Wanna play a game? - Game started!\n",
      "[2018-01-15 21:13:03,447] 0/10 Highscore is 180\n",
      "[2018-01-15 21:13:06,480] 1/10 Highscore is 180\n",
      "[2018-01-15 21:13:09,458] 2/10 Highscore is 180\n",
      "[2018-01-15 21:13:12,363] 3/10 Highscore is 180\n",
      "[2018-01-15 21:13:15,285] 4/10 Highscore is 180\n",
      "[2018-01-15 21:13:18,177] 5/10 Highscore is 180\n",
      "[2018-01-15 21:13:21,079] 6/10 Highscore is 180\n",
      "[2018-01-15 21:13:23,963] 7/10 Highscore is 180\n",
      "[2018-01-15 21:13:26,845] 8/10 Highscore is 180\n",
      "[2018-01-15 21:13:29,757] 9/10 Highscore is 180\n",
      "[2018-01-15 21:13:29,758] Mean score 180.000000\n",
      "[2018-01-15 21:13:29,758] Mean duration 819.000000\n",
      "[2018-01-15 21:13:29,759] Highscore 180 out of 10 sequences\n",
      "[2018-01-15 21:13:29,759] Game ended\n",
      "[2018-01-15 21:13:29,760] Online Training started\n"
     ]
    },
    {
     "name": "stdout",
     "output_type": "stream",
     "text": [
      "Epoch 12 with best score 180\n"
     ]
    },
    {
     "name": "stderr",
     "output_type": "stream",
     "text": [
      "[2018-01-15 21:13:38,265] Online Training finished\n",
      "[2018-01-15 21:13:38,266] Wanna play a game? - Game started!\n",
      "[2018-01-15 21:13:41,189] 0/10 Highscore is 180\n",
      "[2018-01-15 21:13:44,146] 1/10 Highscore is 180\n",
      "[2018-01-15 21:13:47,034] 2/10 Highscore is 180\n",
      "[2018-01-15 21:13:49,914] 3/10 Highscore is 180\n",
      "[2018-01-15 21:13:52,831] 4/10 Highscore is 180\n",
      "[2018-01-15 21:13:55,791] 5/10 Highscore is 180\n",
      "[2018-01-15 21:13:58,828] 6/10 Highscore is 180\n",
      "[2018-01-15 21:14:01,727] 7/10 Highscore is 180\n",
      "[2018-01-15 21:14:04,636] 8/10 Highscore is 180\n",
      "[2018-01-15 21:14:07,572] 9/10 Highscore is 180\n",
      "[2018-01-15 21:14:07,573] Mean score 180.000000\n",
      "[2018-01-15 21:14:07,573] Mean duration 827.000000\n",
      "[2018-01-15 21:14:07,573] Highscore 180 out of 10 sequences\n",
      "[2018-01-15 21:14:07,574] Game ended\n",
      "[2018-01-15 21:14:07,574] Online Training started\n"
     ]
    },
    {
     "name": "stdout",
     "output_type": "stream",
     "text": [
      "Epoch 13 with best score 180\n"
     ]
    },
    {
     "name": "stderr",
     "output_type": "stream",
     "text": [
      "[2018-01-15 21:14:16,117] Online Training finished\n",
      "[2018-01-15 21:14:16,118] Wanna play a game? - Game started!\n",
      "[2018-01-15 21:14:19,023] 0/10 Highscore is 180\n",
      "[2018-01-15 21:14:21,940] 1/10 Highscore is 180\n",
      "[2018-01-15 21:14:24,864] 2/10 Highscore is 180\n",
      "[2018-01-15 21:14:27,782] 3/10 Highscore is 180\n",
      "[2018-01-15 21:14:30,638] 4/10 Highscore is 180\n",
      "[2018-01-15 21:14:33,531] 5/10 Highscore is 180\n",
      "[2018-01-15 21:14:36,438] 6/10 Highscore is 180\n",
      "[2018-01-15 21:14:39,369] 7/10 Highscore is 180\n",
      "[2018-01-15 21:14:42,279] 8/10 Highscore is 180\n",
      "[2018-01-15 21:14:45,243] 9/10 Highscore is 180\n",
      "[2018-01-15 21:14:45,243] Mean score 180.000000\n",
      "[2018-01-15 21:14:45,244] Mean duration 822.000000\n",
      "[2018-01-15 21:14:45,244] Highscore 180 out of 10 sequences\n",
      "[2018-01-15 21:14:45,245] Game ended\n",
      "[2018-01-15 21:14:45,245] Online Training started\n"
     ]
    },
    {
     "name": "stdout",
     "output_type": "stream",
     "text": [
      "Epoch 14 with best score 180\n"
     ]
    },
    {
     "name": "stderr",
     "output_type": "stream",
     "text": [
      "[2018-01-15 21:14:53,724] Online Training finished\n",
      "[2018-01-15 21:14:53,725] Wanna play a game? - Game started!\n",
      "[2018-01-15 21:14:56,667] 0/10 Highscore is 180\n",
      "[2018-01-15 21:14:59,575] 1/10 Highscore is 180\n",
      "[2018-01-15 21:15:02,518] 2/10 Highscore is 180\n",
      "[2018-01-15 21:15:05,439] 3/10 Highscore is 180\n",
      "[2018-01-15 21:15:08,323] 4/10 Highscore is 180\n",
      "[2018-01-15 21:15:11,299] 5/10 Highscore is 180\n",
      "[2018-01-15 21:15:14,206] 6/10 Highscore is 180\n",
      "[2018-01-15 21:15:17,116] 7/10 Highscore is 180\n",
      "[2018-01-15 21:15:20,034] 8/10 Highscore is 180\n",
      "[2018-01-15 21:15:22,902] 9/10 Highscore is 180\n",
      "[2018-01-15 21:15:22,902] Mean score 180.000000\n",
      "[2018-01-15 21:15:22,903] Mean duration 807.000000\n",
      "[2018-01-15 21:15:22,903] Highscore 180 out of 10 sequences\n",
      "[2018-01-15 21:15:22,903] Game ended\n",
      "[2018-01-15 21:15:22,904] Online Training started\n"
     ]
    },
    {
     "name": "stdout",
     "output_type": "stream",
     "text": [
      "Epoch 15 with best score 180\n"
     ]
    },
    {
     "name": "stderr",
     "output_type": "stream",
     "text": [
      "[2018-01-15 21:15:31,405] Online Training finished\n",
      "[2018-01-15 21:15:31,406] Wanna play a game? - Game started!\n",
      "[2018-01-15 21:15:34,309] 0/10 Highscore is 180\n",
      "[2018-01-15 21:15:37,238] 1/10 Highscore is 180\n",
      "[2018-01-15 21:15:40,180] 2/10 Highscore is 180\n",
      "[2018-01-15 21:15:43,107] 3/10 Highscore is 180\n",
      "[2018-01-15 21:15:46,023] 4/10 Highscore is 180\n",
      "[2018-01-15 21:15:48,984] 5/10 Highscore is 180\n",
      "[2018-01-15 21:15:51,876] 6/10 Highscore is 180\n",
      "[2018-01-15 21:15:54,811] 7/10 Highscore is 180\n",
      "[2018-01-15 21:15:57,702] 8/10 Highscore is 180\n",
      "[2018-01-15 21:16:00,627] 9/10 Highscore is 180\n",
      "[2018-01-15 21:16:00,627] Mean score 180.000000\n",
      "[2018-01-15 21:16:00,628] Mean duration 821.000000\n",
      "[2018-01-15 21:16:00,628] Highscore 180 out of 10 sequences\n",
      "[2018-01-15 21:16:00,629] Game ended\n",
      "[2018-01-15 21:16:00,629] Online Training started\n"
     ]
    },
    {
     "name": "stdout",
     "output_type": "stream",
     "text": [
      "Epoch 16 with best score 180\n"
     ]
    },
    {
     "name": "stderr",
     "output_type": "stream",
     "text": [
      "[2018-01-15 21:16:09,094] Online Training finished\n",
      "[2018-01-15 21:16:09,095] Wanna play a game? - Game started!\n",
      "[2018-01-15 21:16:12,057] 0/10 Highscore is 180\n",
      "[2018-01-15 21:16:15,014] 1/10 Highscore is 180\n",
      "[2018-01-15 21:16:17,968] 2/10 Highscore is 180\n",
      "[2018-01-15 21:16:20,887] 3/10 Highscore is 180\n",
      "[2018-01-15 21:16:23,890] 4/10 Highscore is 180\n",
      "[2018-01-15 21:16:26,792] 5/10 Highscore is 180\n",
      "[2018-01-15 21:16:29,749] 6/10 Highscore is 180\n",
      "[2018-01-15 21:16:32,638] 7/10 Highscore is 180\n",
      "[2018-01-15 21:16:35,538] 8/10 Highscore is 180\n",
      "[2018-01-15 21:16:38,444] 9/10 Highscore is 180\n",
      "[2018-01-15 21:16:38,445] Mean score 180.000000\n",
      "[2018-01-15 21:16:38,445] Mean duration 815.000000\n",
      "[2018-01-15 21:16:38,445] Highscore 180 out of 10 sequences\n",
      "[2018-01-15 21:16:38,446] Game ended\n",
      "[2018-01-15 21:16:38,446] Online Training started\n"
     ]
    },
    {
     "name": "stdout",
     "output_type": "stream",
     "text": [
      "Epoch 17 with best score 180\n"
     ]
    },
    {
     "name": "stderr",
     "output_type": "stream",
     "text": [
      "[2018-01-15 21:16:46,969] Online Training finished\n",
      "[2018-01-15 21:16:46,970] Wanna play a game? - Game started!\n",
      "[2018-01-15 21:16:49,931] 0/10 Highscore is 180\n",
      "[2018-01-15 21:16:52,860] 1/10 Highscore is 180\n",
      "[2018-01-15 21:16:55,775] 2/10 Highscore is 180\n",
      "[2018-01-15 21:16:58,675] 3/10 Highscore is 180\n",
      "[2018-01-15 21:17:01,548] 4/10 Highscore is 180\n",
      "[2018-01-15 21:17:04,456] 5/10 Highscore is 180\n",
      "[2018-01-15 21:17:07,345] 6/10 Highscore is 180\n",
      "[2018-01-15 21:17:10,258] 7/10 Highscore is 180\n",
      "[2018-01-15 21:17:13,144] 8/10 Highscore is 180\n",
      "[2018-01-15 21:17:16,032] 9/10 Highscore is 180\n",
      "[2018-01-15 21:17:16,033] Mean score 180.000000\n",
      "[2018-01-15 21:17:16,033] Mean duration 818.000000\n",
      "[2018-01-15 21:17:16,033] Highscore 180 out of 10 sequences\n",
      "[2018-01-15 21:17:16,034] Game ended\n",
      "[2018-01-15 21:17:16,034] Online Training started\n"
     ]
    },
    {
     "name": "stdout",
     "output_type": "stream",
     "text": [
      "Epoch 18 with best score 180\n"
     ]
    },
    {
     "name": "stderr",
     "output_type": "stream",
     "text": [
      "[2018-01-15 21:17:24,524] Online Training finished\n",
      "[2018-01-15 21:17:24,525] Wanna play a game? - Game started!\n",
      "[2018-01-15 21:17:27,400] 0/10 Highscore is 180\n",
      "[2018-01-15 21:17:30,380] 1/10 Highscore is 180\n",
      "[2018-01-15 21:17:33,311] 2/10 Highscore is 180\n",
      "[2018-01-15 21:17:36,234] 3/10 Highscore is 180\n",
      "[2018-01-15 21:17:39,140] 4/10 Highscore is 180\n",
      "[2018-01-15 21:17:42,032] 5/10 Highscore is 180\n",
      "[2018-01-15 21:17:44,960] 6/10 Highscore is 180\n",
      "[2018-01-15 21:17:47,931] 7/10 Highscore is 180\n",
      "[2018-01-15 21:17:50,878] 8/10 Highscore is 180\n",
      "[2018-01-15 21:17:53,800] 9/10 Highscore is 180\n",
      "[2018-01-15 21:17:53,801] Mean score 180.000000\n",
      "[2018-01-15 21:17:53,802] Mean duration 822.000000\n",
      "[2018-01-15 21:17:53,802] Highscore 180 out of 10 sequences\n",
      "[2018-01-15 21:17:53,803] Game ended\n"
     ]
    },
    {
     "name": "stdout",
     "output_type": "stream",
     "text": [
      "Epoch 19 with best score 180\n"
     ]
    }
   ],
   "source": [
    "scores = []\n",
    "durs = []\n",
    "\n",
    "for i in range(20):\n",
    "    solver.train_online(agent, screen, 10)\n",
    "    best, mean, dur = solver.play(agent, screen, num_sequences=10, save=True)\n",
    "    print(\"Epoch %d with best score %d\" % (i, best))\n",
    "    scores.append(mean)\n",
    "    durs.append(dur)"
   ]
  },
  {
   "cell_type": "code",
   "execution_count": null,
   "metadata": {},
   "outputs": [],
   "source": [
    "plt.plot(range(len(scores)), scores, 'b', range(len(durs)), durs, 'g')"
   ]
  }
 ],
 "metadata": {
  "kernelspec": {
   "display_name": "Python 3",
   "language": "python",
   "name": "python3"
  },
  "language_info": {
   "codemirror_mode": {
    "name": "ipython",
    "version": 3
   },
   "file_extension": ".py",
   "mimetype": "text/x-python",
   "name": "python",
   "nbconvert_exporter": "python",
   "pygments_lexer": "ipython3",
   "version": "3.6.3"
  }
 },
 "nbformat": 4,
 "nbformat_minor": 2
}
