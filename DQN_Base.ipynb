{
 "cells": [
  {
   "cell_type": "code",
   "execution_count": 1,
   "metadata": {},
   "outputs": [],
   "source": [
    "import gym\n",
    "\n",
    "from agents.dqn import DQNAgent\n",
    "from utils.screen import SpaceInvaderScreen\n",
    "from train.solver import Solver\n",
    "\n",
    "from torch import optim\n",
    "from torch.nn import CrossEntropyLoss\n",
    "\n",
    "import matplotlib.pyplot as plt\n",
    "import numpy as np\n",
    "\n",
    "\n",
    "%reload_ext autoreload\n",
    "%autoreload 2\n",
    "\n",
    "%matplotlib inline"
   ]
  },
  {
   "cell_type": "code",
   "execution_count": 2,
   "metadata": {},
   "outputs": [
    {
     "name": "stderr",
     "output_type": "stream",
     "text": [
      "[2018-01-18 15:16:25,780] Making new env: SpaceInvaders-v0\n"
     ]
    }
   ],
   "source": [
    "screen = SpaceInvaderScreen()"
   ]
  },
  {
   "cell_type": "code",
   "execution_count": 3,
   "metadata": {},
   "outputs": [],
   "source": [
    "agent = DQNAgent(screen, history_len=4, mem_size=1000)"
   ]
  },
  {
   "cell_type": "code",
   "execution_count": 4,
   "metadata": {},
   "outputs": [],
   "source": [
    "agent.initialize(800)"
   ]
  },
  {
   "cell_type": "code",
   "execution_count": 5,
   "metadata": {},
   "outputs": [],
   "source": [
    "solver = Solver(optim.Adam, CrossEntropyLoss(), batchsize=100, log_level='INFO')"
   ]
  },
  {
   "cell_type": "code",
   "execution_count": 6,
   "metadata": {},
   "outputs": [
    {
     "name": "stderr",
     "output_type": "stream",
     "text": [
      "[2018-01-18 15:16:46,013] Wanna play a game? - Game started!\n",
      "[2018-01-18 15:16:49,759] 0/10 Highscore is 15\n",
      "[2018-01-18 15:16:53,204] 1/10 Highscore is 15\n",
      "[2018-01-18 15:16:58,663] 2/10 Highscore is 100\n",
      "[2018-01-18 15:17:03,467] 3/10 Highscore is 100\n",
      "[2018-01-18 15:17:06,050] 4/10 Highscore is 100\n",
      "[2018-01-18 15:17:09,108] 5/10 Highscore is 100\n",
      "[2018-01-18 15:17:14,069] 6/10 Highscore is 100\n",
      "[2018-01-18 15:17:17,923] 7/10 Highscore is 100\n",
      "[2018-01-18 15:17:22,344] 8/10 Highscore is 100\n",
      "[2018-01-18 15:17:29,087] 9/10 Highscore is 100\n",
      "[2018-01-18 15:17:29,095] Mean score 27.500000\n",
      "[2018-01-18 15:17:29,102] Mean duration 1190.000000\n",
      "[2018-01-18 15:17:29,105] Highscore 100 out of 10 sequences\n",
      "[2018-01-18 15:17:29,111] Game ended\n"
     ]
    }
   ],
   "source": [
    "best_score, mean_score, mean_dur = solver.play(agent, screen, 10)"
   ]
  },
  {
   "cell_type": "code",
   "execution_count": null,
   "metadata": {},
   "outputs": [
    {
     "name": "stderr",
     "output_type": "stream",
     "text": [
      "[2018-01-18 15:17:34,784] Online Training started\n",
      "[2018-01-18 15:17:47,900] Online Training finished\n",
      "[2018-01-18 15:17:47,902] Wanna play a game? - Game started!\n",
      "[2018-01-18 15:17:54,134] 0/10 Highscore is 235\n",
      "[2018-01-18 15:18:00,640] 1/10 Highscore is 235\n",
      "[2018-01-18 15:18:06,948] 2/10 Highscore is 235\n",
      "[2018-01-18 15:18:12,659] 3/10 Highscore is 235\n",
      "[2018-01-18 15:18:18,001] 4/10 Highscore is 235\n",
      "[2018-01-18 15:18:23,853] 5/10 Highscore is 235\n",
      "[2018-01-18 15:18:29,935] 6/10 Highscore is 235\n",
      "[2018-01-18 15:18:35,762] 7/10 Highscore is 235\n",
      "[2018-01-18 15:18:41,703] 8/10 Highscore is 235\n",
      "[2018-01-18 15:18:47,761] 9/10 Highscore is 235\n",
      "[2018-01-18 15:18:47,777] Mean score 235.000000\n",
      "[2018-01-18 15:18:47,782] Mean duration 1181.000000\n",
      "[2018-01-18 15:18:47,788] Highscore 235 out of 10 sequences\n",
      "[2018-01-18 15:18:47,793] Game ended\n",
      "[2018-01-18 15:18:47,797] Online Training started\n"
     ]
    },
    {
     "name": "stdout",
     "output_type": "stream",
     "text": [
      "Epoch 0 with best score 235\n"
     ]
    },
    {
     "name": "stderr",
     "output_type": "stream",
     "text": [
      "[2018-01-18 15:19:00,333] Online Training finished\n",
      "[2018-01-18 15:19:00,334] Wanna play a game? - Game started!\n",
      "[2018-01-18 15:19:03,690] 0/10 Highscore is 0\n",
      "[2018-01-18 15:19:07,528] 1/10 Highscore is 0\n",
      "[2018-01-18 15:19:11,170] 2/10 Highscore is 0\n",
      "[2018-01-18 15:19:15,072] 3/10 Highscore is 0\n",
      "[2018-01-18 15:19:19,032] 4/10 Highscore is 0\n",
      "[2018-01-18 15:19:23,549] 5/10 Highscore is 0\n",
      "[2018-01-18 15:19:27,605] 6/10 Highscore is 0\n",
      "[2018-01-18 15:19:31,867] 7/10 Highscore is 0\n",
      "[2018-01-18 15:19:35,511] 8/10 Highscore is 0\n",
      "[2018-01-18 15:19:38,860] 9/10 Highscore is 0\n",
      "[2018-01-18 15:19:38,875] Mean score 0.000000\n",
      "[2018-01-18 15:19:38,878] Mean duration 673.000000\n",
      "[2018-01-18 15:19:38,884] Highscore 0 out of 10 sequences\n",
      "[2018-01-18 15:19:38,889] Game ended\n",
      "[2018-01-18 15:19:38,895] Online Training started\n"
     ]
    },
    {
     "name": "stdout",
     "output_type": "stream",
     "text": [
      "Epoch 1 with best score 0\n"
     ]
    },
    {
     "name": "stderr",
     "output_type": "stream",
     "text": [
      "[2018-01-18 15:19:51,766] Online Training finished\n",
      "[2018-01-18 15:19:51,767] Wanna play a game? - Game started!\n",
      "[2018-01-18 15:19:57,763] 0/10 Highscore is 285\n",
      "[2018-01-18 15:20:03,007] 1/10 Highscore is 390\n",
      "[2018-01-18 15:20:06,957] 2/10 Highscore is 390\n",
      "[2018-01-18 15:20:13,168] 3/10 Highscore is 390\n",
      "[2018-01-18 15:20:19,659] 4/10 Highscore is 580\n",
      "[2018-01-18 15:20:25,599] 5/10 Highscore is 580\n",
      "[2018-01-18 15:20:31,656] 6/10 Highscore is 580\n",
      "[2018-01-18 15:20:37,703] 7/10 Highscore is 580\n",
      "[2018-01-18 15:20:44,215] 8/10 Highscore is 580\n",
      "[2018-01-18 15:20:50,065] 9/10 Highscore is 580\n",
      "[2018-01-18 15:20:50,069] Mean score 348.000000\n",
      "[2018-01-18 15:20:50,074] Mean duration 1109.000000\n",
      "[2018-01-18 15:20:50,077] Highscore 580 out of 10 sequences\n",
      "[2018-01-18 15:20:50,080] Game ended\n",
      "[2018-01-18 15:20:50,084] Online Training started\n"
     ]
    },
    {
     "name": "stdout",
     "output_type": "stream",
     "text": [
      "Epoch 2 with best score 580\n"
     ]
    },
    {
     "name": "stderr",
     "output_type": "stream",
     "text": [
      "[2018-01-18 15:21:02,547] Online Training finished\n",
      "[2018-01-18 15:21:02,550] Wanna play a game? - Game started!\n",
      "[2018-01-18 15:21:06,525] 0/10 Highscore is 180\n",
      "[2018-01-18 15:21:11,148] 1/10 Highscore is 180\n",
      "[2018-01-18 15:21:15,371] 2/10 Highscore is 180\n",
      "[2018-01-18 15:21:19,797] 3/10 Highscore is 180\n",
      "[2018-01-18 15:21:24,133] 4/10 Highscore is 180\n",
      "[2018-01-18 15:21:28,560] 5/10 Highscore is 180\n",
      "[2018-01-18 15:21:32,828] 6/10 Highscore is 180\n",
      "[2018-01-18 15:21:37,046] 7/10 Highscore is 180\n",
      "[2018-01-18 15:21:41,274] 8/10 Highscore is 180\n",
      "[2018-01-18 15:21:45,532] 9/10 Highscore is 180\n",
      "[2018-01-18 15:21:45,547] Mean score 180.000000\n",
      "[2018-01-18 15:21:45,553] Mean duration 826.000000\n",
      "[2018-01-18 15:21:45,559] Highscore 180 out of 10 sequences\n",
      "[2018-01-18 15:21:45,563] Game ended\n",
      "[2018-01-18 15:21:45,567] Online Training started\n"
     ]
    },
    {
     "name": "stdout",
     "output_type": "stream",
     "text": [
      "Epoch 3 with best score 180\n"
     ]
    },
    {
     "name": "stderr",
     "output_type": "stream",
     "text": [
      "[2018-01-18 15:21:57,745] Online Training finished\n",
      "[2018-01-18 15:21:57,747] Wanna play a game? - Game started!\n",
      "[2018-01-18 15:22:03,238] 0/10 Highscore is 235\n",
      "[2018-01-18 15:22:08,659] 1/10 Highscore is 235\n",
      "[2018-01-18 15:22:14,277] 2/10 Highscore is 235\n"
     ]
    }
   ],
   "source": [
    "scores = []\n",
    "durs = []\n",
    "\n",
    "for i in range(20):\n",
    "    solver.train_online(agent, screen, 10)\n",
    "    best, mean, dur = solver.play(agent, screen, num_sequences=10, save=True)\n",
    "    print(\"Epoch %d with best score %d\" % (i, best))\n",
    "    scores.append(mean)\n",
    "    durs.append(dur)"
   ]
  },
  {
   "cell_type": "code",
   "execution_count": null,
   "metadata": {},
   "outputs": [],
   "source": [
    "plt.plot(range(len(scores)), scores, 'b', range(len(durs)), durs, 'g')"
   ]
  }
 ],
 "metadata": {
  "kernelspec": {
   "display_name": "Python 3",
   "language": "python",
   "name": "python3"
  },
  "language_info": {
   "codemirror_mode": {
    "name": "ipython",
    "version": 3
   },
   "file_extension": ".py",
   "mimetype": "text/x-python",
   "name": "python",
   "nbconvert_exporter": "python",
   "pygments_lexer": "ipython3",
   "version": "3.6.3"
  }
 },
 "nbformat": 4,
 "nbformat_minor": 2
}
