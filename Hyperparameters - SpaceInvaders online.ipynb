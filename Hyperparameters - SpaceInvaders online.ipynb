{
 "cells": [
  {
   "cell_type": "code",
   "execution_count": 1,
   "metadata": {},
   "outputs": [],
   "source": [
    "import gym\n",
    "\n",
    "from agents.dqn import DQNAgent\n",
    "from utils.screen import SpaceInvaderScreen\n",
    "from utils.data_loader import AtariGrandChallengeDataset\n",
    "from train.solver import Solver\n",
    "\n",
    "from torch import optim\n",
    "from torch.nn import CrossEntropyLoss\n",
    "from torch.utils.data import DataLoader\n",
    "\n",
    "import matplotlib.pyplot as plt\n",
    "from skimage.transform import resize\n",
    "from skimage.color import rgb2gray\n",
    "import numpy as np\n",
    "\n",
    "%reload_ext autoreload\n",
    "%autoreload 2\n",
    "\n",
    "%matplotlib inline"
   ]
  },
  {
   "cell_type": "code",
   "execution_count": 2,
   "metadata": {
    "scrolled": true
   },
   "outputs": [
    {
     "name": "stderr",
     "output_type": "stream",
     "text": [
      "[2018-01-21 12:10:15,861] Making new env: SpaceInvaders-v0\n"
     ]
    }
   ],
   "source": [
    "screen = SpaceInvaderScreen()"
   ]
  },
  {
   "cell_type": "code",
   "execution_count": 3,
   "metadata": {},
   "outputs": [],
   "source": [
    "agent = DQNAgent(screen, mem_size=80000)\n",
    "agent.initialize(num_replays=1000)"
   ]
  },
  {
   "cell_type": "code",
   "execution_count": 4,
   "metadata": {},
   "outputs": [],
   "source": [
    "solver = Solver(\n",
    "    optim.Adam,\n",
    "    CrossEntropyLoss(),\n",
    "    batchsize=40,\n",
    "    log_level='INFO')"
   ]
  },
  {
   "cell_type": "code",
   "execution_count": null,
   "metadata": {},
   "outputs": [],
   "source": [
    "learning_rate = 0.01\n",
    "weight_decay = 0\n",
    "num_epochs = 30\n",
    "log_nth = 5"
   ]
  },
  {
   "cell_type": "code",
   "execution_count": null,
   "metadata": {
    "scrolled": true
   },
   "outputs": [
    {
     "name": "stderr",
     "output_type": "stream",
     "text": [
      "[2018-01-21 12:10:20,316] Online Training started\n",
      "[2018-01-21 12:10:20,319] Frames stored : 1000\n",
      "[2018-01-21 12:11:00,311] Online Training finished\n",
      "[2018-01-21 12:11:00,314] Wanna play a game? - Game started!\n",
      "[2018-01-21 12:11:05,920] 0/10 Highscore is 0\n",
      "[2018-01-21 12:11:10,914] 1/10 Highscore is 0\n",
      "[2018-01-21 12:11:15,857] 2/10 Highscore is 0\n",
      "[2018-01-21 12:11:20,712] 3/10 Highscore is 0\n",
      "[2018-01-21 12:11:26,256] 4/10 Highscore is 0\n",
      "[2018-01-21 12:11:31,140] 5/10 Highscore is 0\n",
      "[2018-01-21 12:11:35,651] 6/10 Highscore is 0\n",
      "[2018-01-21 12:11:40,062] 7/10 Highscore is 0\n",
      "[2018-01-21 12:11:45,254] 8/10 Highscore is 0\n",
      "[2018-01-21 12:11:49,765] 9/10 Highscore is 0\n",
      "[2018-01-21 12:11:49,772] Mean score 0.000000\n",
      "[2018-01-21 12:11:49,778] Mean duration 686.000000\n",
      "[2018-01-21 12:11:49,780] Highscore 0 out of 10 sequences\n",
      "[2018-01-21 12:11:49,782] Game ended\n",
      "[2018-01-21 12:11:49,787] Online Training started\n",
      "[2018-01-21 12:11:49,792] Frames stored : 7835\n",
      "[2018-01-21 12:12:25,265] Online Training finished\n",
      "[2018-01-21 12:12:25,268] Wanna play a game? - Game started!\n",
      "[2018-01-21 12:12:31,449] 0/10 Highscore is 180\n",
      "[2018-01-21 12:12:37,762] 1/10 Highscore is 180\n",
      "[2018-01-21 12:12:44,038] 2/10 Highscore is 180\n",
      "[2018-01-21 12:12:50,575] 3/10 Highscore is 180\n",
      "[2018-01-21 12:12:56,635] 4/10 Highscore is 180\n",
      "[2018-01-21 12:13:02,070] 5/10 Highscore is 180\n",
      "[2018-01-21 12:13:07,443] 6/10 Highscore is 180\n",
      "[2018-01-21 12:13:13,484] 7/10 Highscore is 180\n",
      "[2018-01-21 12:13:19,193] 8/10 Highscore is 180\n",
      "[2018-01-21 12:13:25,478] 9/10 Highscore is 180\n",
      "[2018-01-21 12:13:25,484] Mean score 180.000000\n",
      "[2018-01-21 12:13:25,490] Mean duration 819.000000\n",
      "[2018-01-21 12:13:25,495] Highscore 180 out of 10 sequences\n",
      "[2018-01-21 12:13:25,498] Game ended\n",
      "[2018-01-21 12:13:25,500] Online Training started\n",
      "[2018-01-21 12:13:25,505] Frames stored : 16045\n",
      "[2018-01-21 12:14:02,015] Online Training finished\n",
      "[2018-01-21 12:14:02,017] Wanna play a game? - Game started!\n",
      "[2018-01-21 12:14:06,446] 0/10 Highscore is 0\n",
      "[2018-01-21 12:14:11,783] 1/10 Highscore is 0\n",
      "[2018-01-21 12:14:16,914] 2/10 Highscore is 0\n",
      "[2018-01-21 12:14:22,055] 3/10 Highscore is 0\n",
      "[2018-01-21 12:14:27,267] 4/10 Highscore is 0\n"
     ]
    }
   ],
   "source": [
    "for i in range(15):\n",
    "    solver.train_online(agent,screen,num_epochs,learning_rate,log_nth,weight_decay)\n",
    "    solver.play(agent, screen, 10, save=True)"
   ]
  },
  {
   "cell_type": "code",
   "execution_count": null,
   "metadata": {},
   "outputs": [],
   "source": [
    "tloss = [float(loss) for loss in solver.train_loss_history]"
   ]
  },
  {
   "cell_type": "code",
   "execution_count": null,
   "metadata": {},
   "outputs": [],
   "source": [
    "vloss"
   ]
  },
  {
   "cell_type": "code",
   "execution_count": null,
   "metadata": {},
   "outputs": [],
   "source": [
    "plt.plot(range(len(tloss)), tloss, 'b')"
   ]
  }
 ],
 "metadata": {
  "kernelspec": {
   "display_name": "Python 3",
   "language": "python",
   "name": "python3"
  },
  "language_info": {
   "codemirror_mode": {
    "name": "ipython",
    "version": 3
   },
   "file_extension": ".py",
   "mimetype": "text/x-python",
   "name": "python",
   "nbconvert_exporter": "python",
   "pygments_lexer": "ipython3",
   "version": "3.6.3"
  }
 },
 "nbformat": 4,
 "nbformat_minor": 2
}
